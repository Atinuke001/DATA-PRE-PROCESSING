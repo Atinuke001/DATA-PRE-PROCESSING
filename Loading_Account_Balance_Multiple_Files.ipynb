{
 "cells": [
  {
   "cell_type": "code",
   "execution_count": 135,
   "metadata": {},
   "outputs": [],
   "source": [
    "#import pymysql\n",
    "\n",
    "import pandas as pd\n",
    "from tabulate import tabulate\n",
    " #import numpy as np\n",
    "\n",
    " #import urllib\n",
    " #from sqlalchemy import create_engine\n",
    " #import plotly"
   ]
  },
  {
   "cell_type": "code",
   "execution_count": 136,
   "metadata": {},
   "outputs": [],
   "source": [
    "Account_Data1 = pd.read_csv('/Users/integrationalpha/Documents/tinu/Frank/EXT_ACCOUNT_BALANCE001.csv',sep=',',encoding = \"ISO-8859-1\",names=['Account_Number','Nones','Start_Date','Account_Balance','None'])\n",
    "#Account_Data = Account_Data[0].str.split('\\s\\|\\s', expand=True)\n",
    "#tabulate(Account_Data, headers=\"keys\", tablefmt=\"orgtbl\")\n",
    "\n",
    "\n",
    "\n",
    "\n"
   ]
  },
  {
   "cell_type": "code",
   "execution_count": 137,
   "metadata": {},
   "outputs": [],
   "source": [
    "Account_Data2 = pd.read_csv('/Users/integrationalpha/Documents/tinu/Frank/EXT_ACCOUNT_BALANCE.csv',sep=',',encoding = \"ISO-8859-1\",names=['Account_Number','Nones','Start_Date','Account_Balance','None'])"
   ]
  },
  {
   "cell_type": "code",
   "execution_count": 138,
   "metadata": {},
   "outputs": [],
   "source": [
    "Account_Data3 = pd.read_csv('/Users/integrationalpha/Documents/tinu/Frank/EXT_ACCOUNT_BALANCE.0001.csv',sep=',',encoding = \"ISO-8859-1\",names=['Account_Number','Nones','Start_Date','Account_Balance','None'])"
   ]
  },
  {
   "cell_type": "code",
   "execution_count": 139,
   "metadata": {},
   "outputs": [],
   "source": [
    "Account = pd.concat([Account_Data1,Account_Data2,Account_Data1])"
   ]
  },
  {
   "cell_type": "code",
   "execution_count": 140,
   "metadata": {},
   "outputs": [
    {
     "data": {
      "text/html": [
       "<div>\n",
       "<style scoped>\n",
       "    .dataframe tbody tr th:only-of-type {\n",
       "        vertical-align: middle;\n",
       "    }\n",
       "\n",
       "    .dataframe tbody tr th {\n",
       "        vertical-align: top;\n",
       "    }\n",
       "\n",
       "    .dataframe thead th {\n",
       "        text-align: right;\n",
       "    }\n",
       "</style>\n",
       "<table border=\"1\" class=\"dataframe\">\n",
       "  <thead>\n",
       "    <tr style=\"text-align: right;\">\n",
       "      <th></th>\n",
       "      <th>Account_Number</th>\n",
       "      <th>Nones</th>\n",
       "      <th>Start_Date</th>\n",
       "      <th>Account_Balance</th>\n",
       "      <th>None</th>\n",
       "    </tr>\n",
       "  </thead>\n",
       "  <tbody>\n",
       "    <tr>\n",
       "      <th>0.0</th>\n",
       "      <td>A4300000001-01</td>\n",
       "      <td>NaN</td>\n",
       "      <td>01.07.2014 23:36:16</td>\n",
       "      <td>21998.290040</td>\n",
       "      <td>D</td>\n",
       "    </tr>\n",
       "    <tr>\n",
       "      <th>1.0</th>\n",
       "      <td>A4300000001-02</td>\n",
       "      <td>NaN</td>\n",
       "      <td>01.07.2014 23:03:57</td>\n",
       "      <td>693577.192900</td>\n",
       "      <td>D</td>\n",
       "    </tr>\n",
       "    <tr>\n",
       "      <th>2.0</th>\n",
       "      <td>A4300000001-03</td>\n",
       "      <td>NaN</td>\n",
       "      <td>01.07.2014 23:04:33</td>\n",
       "      <td>1886.682732</td>\n",
       "      <td>D</td>\n",
       "    </tr>\n",
       "    <tr>\n",
       "      <th>3.0</th>\n",
       "      <td>A4300000001-04</td>\n",
       "      <td>NaN</td>\n",
       "      <td>01.07.2014 23:12:22</td>\n",
       "      <td>18094.945310</td>\n",
       "      <td>D</td>\n",
       "    </tr>\n",
       "    <tr>\n",
       "      <th>4.0</th>\n",
       "      <td>A4300000001-05</td>\n",
       "      <td>NaN</td>\n",
       "      <td>01.07.2014 23:03:37</td>\n",
       "      <td>401457.742300</td>\n",
       "      <td>D</td>\n",
       "    </tr>\n",
       "  </tbody>\n",
       "</table>\n",
       "</div>"
      ],
      "text/plain": [
       "     Account_Number Nones           Start_Date  Account_Balance None\n",
       "0.0  A4300000001-01   NaN  01.07.2014 23:36:16     21998.290040    D\n",
       "1.0  A4300000001-02   NaN  01.07.2014 23:03:57    693577.192900    D\n",
       "2.0  A4300000001-03   NaN  01.07.2014 23:04:33      1886.682732    D\n",
       "3.0  A4300000001-04   NaN  01.07.2014 23:12:22     18094.945310    D\n",
       "4.0  A4300000001-05   NaN  01.07.2014 23:03:37    401457.742300    D"
      ]
     },
     "execution_count": 140,
     "metadata": {},
     "output_type": "execute_result"
    }
   ],
   "source": [
    " \n",
    "Account.head(5)"
   ]
  },
  {
   "cell_type": "code",
   "execution_count": 131,
   "metadata": {},
   "outputs": [
    {
     "name": "stdout",
     "output_type": "stream",
     "text": [
      "     Account_Number Nones           Start_Date  Account_Balance None\n",
      "0.0  A4300000001-01   NaN  01.07.2014 23:36:16     21998.290040    D\n",
      "1.0  A4300000001-02   NaN  01.07.2014 23:03:57    693577.192900    D\n",
      "2.0  A4300000001-03   NaN  01.07.2014 23:04:33      1886.682732    D\n",
      "3.0  A4300000001-04   NaN  01.07.2014 23:12:22     18094.945310    D\n",
      "4.0  A4300000001-05   NaN  01.07.2014 23:03:37    401457.742300    D\n"
     ]
    }
   ],
   "source": [
    "print(Account.head(5))"
   ]
  },
  {
   "cell_type": "code",
   "execution_count": 141,
   "metadata": {},
   "outputs": [],
   "source": [
    "Account = Account.drop(['Nones','None'],axis=1)"
   ]
  },
  {
   "cell_type": "code",
   "execution_count": 142,
   "metadata": {},
   "outputs": [
    {
     "name": "stdout",
     "output_type": "stream",
     "text": [
      "     Account_Number           Start_Date  Account_Balance\n",
      "0.0  A4300000001-01  01.07.2014 23:36:16     21998.290040\n",
      "1.0  A4300000001-02  01.07.2014 23:03:57    693577.192900\n",
      "2.0  A4300000001-03  01.07.2014 23:04:33      1886.682732\n",
      "3.0  A4300000001-04  01.07.2014 23:12:22     18094.945310\n",
      "4.0  A4300000001-05  01.07.2014 23:03:37    401457.742300\n"
     ]
    }
   ],
   "source": [
    "print(Account.head(5))"
   ]
  },
  {
   "cell_type": "code",
   "execution_count": 143,
   "metadata": {},
   "outputs": [
    {
     "data": {
      "text/plain": [
       "(180336, 3)"
      ]
     },
     "execution_count": 143,
     "metadata": {},
     "output_type": "execute_result"
    }
   ],
   "source": [
    "Account.shape"
   ]
  },
  {
   "cell_type": "code",
   "execution_count": null,
   "metadata": {},
   "outputs": [],
   "source": []
  }
 ],
 "metadata": {
  "kernelspec": {
   "display_name": "Python 3",
   "language": "python",
   "name": "python3"
  },
  "language_info": {
   "codemirror_mode": {
    "name": "ipython",
    "version": 3
   },
   "file_extension": ".py",
   "mimetype": "text/x-python",
   "name": "python",
   "nbconvert_exporter": "python",
   "pygments_lexer": "ipython3",
   "version": "3.7.3"
  }
 },
 "nbformat": 4,
 "nbformat_minor": 2
}
